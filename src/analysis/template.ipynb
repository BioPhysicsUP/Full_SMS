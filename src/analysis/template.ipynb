{
 "cells": [
  {
   "cell_type": "markdown",
   "source": [
    "# Heading\n",
    "\n",
    "## Smaller heading\n",
    "\n",
    "### Smallest heading\n",
    "\n",
    "Normal text, **bold text**, *italic text*, ~~strike through text~~\n",
    "\n",
    "---\n",
    "(line)\n",
    "\n",
    "1. Numbered Items\n",
    "2. Another\n",
    "    * bullet\n",
    "\n",
    "\n",
    "* Item\n",
    "    - sub item\n",
    "\n",
    "\n",
    "- [ ] Task\n",
    "- [x] Completed Task\n",
    "\n",
    "|Column 1|Column 2|\n",
    "|--------|--------|\n",
    "|text|more text|\n",
    "\n",
    "This is inline code `a == 1 is True`, indeed.\n",
    "\n",
    "This is a whole lot of code:\n",
    "```\n",
    "a = 1\n",
    "if a == 1:\n",
    "    print('Yeay!')\n",
    "```\n"
   ],
   "metadata": {
    "collapsed": false
   }
  },
  {
   "cell_type": "code",
   "execution_count": 6,
   "outputs": [],
   "source": [
    "a = 1\n",
    "b = 2\n",
    "\n",
    "if a == b:\n",
    "    print(\"Yeay!\")\n",
    "else:\n",
    "    print(\"...ahhhhh\")"
   ],
   "metadata": {
    "collapsed": false,
    "pycharm": {
     "name": "#%%\n"
    }
   }
  }
 ],
 "metadata": {
  "kernelspec": {
   "display_name": "Python 3",
   "language": "python",
   "name": "python3"
  },
  "language_info": {
   "codemirror_mode": {
    "name": "ipython",
    "version": 2
   },
   "file_extension": ".py",
   "mimetype": "text/x-python",
   "name": "python",
   "nbconvert_exporter": "python",
   "pygments_lexer": "ipython2",
   "version": "2.7.6"
  }
 },
 "nbformat": 4,
 "nbformat_minor": 0
}