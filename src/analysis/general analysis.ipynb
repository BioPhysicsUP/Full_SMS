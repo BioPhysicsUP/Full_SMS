{
 "cells": [
  {
   "cell_type": "markdown",
   "source": [
    "# General Analysis\n",
    "\n",
    "This is a general analysis output of the Full_SMS output.\n",
    "\n",
    "_Take note that this file is meant to act as a starting point, and is not meant to comprise a\n",
    "complete analysis._\n",
    "\n",
    "## Load data\n",
    "\n",
    "The folowing code is to load the relavant CSV file into Pandas DataFrames."
   ],
   "metadata": {
    "collapsed": false,
    "pycharm": {
     "name": "#%% md\n"
    }
   }
  },
  {
   "cell_type": "code",
   "execution_count": 68,
   "outputs": [],
   "source": [
    "# from dfply import *\n",
    "import pandas as pd\n",
    "import numpy as np\n",
    "from os import path\n",
    "\n",
    "particle_list = [10]\n",
    "folder = path.abspath(\"results\")\n",
    "full_path = lambda num, type: path.join(folder, f\"Particle {num} {type}.csv\")\n",
    "\n",
    "all_dfs = dict()\n",
    "for p_num in particle_list:\n",
    "    df_levels = pd.read_csv(full_path(p_num, 'levels'), index_col=0)\n",
    "    df_levels_grouped = pd.read_csv(full_path(p_num, 'levels-grouped'), index_col=0)\n",
    "    df_groups_lifetime = pd.read_csv(full_path(p_num, 'groups-lifetimes'), index_col=0)\n",
    "    df_groups_info = pd.read_csv(full_path(p_num, 'groups-info'), header=2, index_col=0)\n",
    "    df_bic = pd.read_csv(full_path(p_num, 'grouping-results'), header=3, index_col=0)\n",
    "    df_bic_info = pd.read_csv(full_path(p_num, 'grouping-results'), nrows=3, header=None).T\n",
    "    df_bic_info.rename(columns=)\n",
    "                   rename(columns=X.index[0]) >>\n",
    "                   drop(X.index[0]))"
   ],
   "metadata": {
    "collapsed": false,
    "pycharm": {
     "name": "#%%\n"
    }
   }
  },
  {
   "cell_type": "code",
   "execution_count": 66,
   "outputs": [
    {
     "data": {
      "text/plain": "<dfply.base.Intention at 0x114325a00>"
     },
     "execution_count": 66,
     "metadata": {},
     "output_type": "execute_result"
    }
   ],
   "source": [
    "# df_bic_info.rename(columns=df_bic_info.iloc[0]).drop(df_bic_info.index[0], inplace=True)\n",
    "# df_bic_info.rename(columns=df_bic_info.iloc[0], inplace=True)\n",
    "# df_bic_info.drop(df_bic_info.index[0], inplace=True)\n",
    "df_bic_info.head()\n"
   ],
   "metadata": {
    "collapsed": false,
    "pycharm": {
     "name": "#%%\n"
    }
   }
  }
 ],
 "metadata": {
  "kernelspec": {
   "display_name": "Python 3",
   "language": "python",
   "name": "python3"
  },
  "language_info": {
   "codemirror_mode": {
    "name": "ipython",
    "version": 2
   },
   "file_extension": ".py",
   "mimetype": "text/x-python",
   "name": "python",
   "nbconvert_exporter": "python",
   "pygments_lexer": "ipython2",
   "version": "2.7.6"
  }
 },
 "nbformat": 4,
 "nbformat_minor": 0
}